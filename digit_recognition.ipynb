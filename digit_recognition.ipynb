{
  "cells": [
    {
      "cell_type": "code",
      "execution_count": 2,
      "metadata": {
        "id": "bnatEleOCkXL"
      },
      "outputs": [],
      "source": [
        "import numpy as np\n",
        "import pandas as pd\n",
        "import matplotlib.pyplot as plt"
      ]
    },
    {
      "cell_type": "code",
      "execution_count": 3,
      "metadata": {},
      "outputs": [],
      "source": [
        "import random"
      ]
    },
    {
      "cell_type": "code",
      "execution_count": 4,
      "metadata": {},
      "outputs": [
        {
          "name": "stderr",
          "output_type": "stream",
          "text": [
            "2022-12-03 00:10:55.436089: I tensorflow/core/platform/cpu_feature_guard.cc:193] This TensorFlow binary is optimized with oneAPI Deep Neural Network Library (oneDNN) to use the following CPU instructions in performance-critical operations:  AVX2 AVX512F AVX512_VNNI FMA\n",
            "To enable them in other operations, rebuild TensorFlow with the appropriate compiler flags.\n",
            "2022-12-03 00:10:55.938452: I tensorflow/core/util/port.cc:104] oneDNN custom operations are on. You may see slightly different numerical results due to floating-point round-off errors from different computation orders. To turn them off, set the environment variable `TF_ENABLE_ONEDNN_OPTS=0`.\n",
            "2022-12-03 00:10:55.997760: W tensorflow/compiler/xla/stream_executor/platform/default/dso_loader.cc:64] Could not load dynamic library 'libcudart.so.11.0'; dlerror: libcudart.so.11.0: cannot open shared object file: No such file or directory\n",
            "2022-12-03 00:10:55.997793: I tensorflow/compiler/xla/stream_executor/cuda/cudart_stub.cc:29] Ignore above cudart dlerror if you do not have a GPU set up on your machine.\n",
            "2022-12-03 00:10:57.968113: W tensorflow/compiler/xla/stream_executor/platform/default/dso_loader.cc:64] Could not load dynamic library 'libnvinfer.so.7'; dlerror: libnvinfer.so.7: cannot open shared object file: No such file or directory\n",
            "2022-12-03 00:10:57.968471: W tensorflow/compiler/xla/stream_executor/platform/default/dso_loader.cc:64] Could not load dynamic library 'libnvinfer_plugin.so.7'; dlerror: libnvinfer_plugin.so.7: cannot open shared object file: No such file or directory\n",
            "2022-12-03 00:10:57.968539: W tensorflow/compiler/tf2tensorrt/utils/py_utils.cc:38] TF-TRT Warning: Cannot dlopen some TensorRT libraries. If you would like to use Nvidia GPU with TensorRT, please make sure the missing libraries mentioned above are installed properly.\n"
          ]
        }
      ],
      "source": [
        "import keras"
      ]
    },
    {
      "cell_type": "markdown",
      "metadata": {
        "id": "sOiYtURdunA3"
      },
      "source": [
        "Importing the libraries to be used."
      ]
    },
    {
      "cell_type": "code",
      "execution_count": 5,
      "metadata": {
        "id": "HWPtFCZHCqVv"
      },
      "outputs": [],
      "source": [
        "from keras.datasets import mnist"
      ]
    },
    {
      "cell_type": "markdown",
      "metadata": {
        "id": "TJc_ic7Juu9A"
      },
      "source": [
        "Using keras only to import the dataset."
      ]
    },
    {
      "cell_type": "code",
      "execution_count": 6,
      "metadata": {
        "id": "88mucL_aCzn0"
      },
      "outputs": [
        {
          "name": "stdout",
          "output_type": "stream",
          "text": [
            "<class 'numpy.ndarray'>\n",
            "(60000, 28, 28)\n",
            "<class 'numpy.ndarray'>\n",
            "(60000,)\n"
          ]
        }
      ],
      "source": [
        "(train_x, train_y), (test_x, test_y) = mnist.load_data()\n",
        "\n",
        "print(type(train_x))\n",
        "print(train_x.shape)\n",
        "print(type(train_y))\n",
        "print(train_y.shape)"
      ]
    },
    {
      "cell_type": "code",
      "execution_count": 7,
      "metadata": {
        "colab": {
          "base_uri": "https://localhost:8080/",
          "height": 201
        },
        "id": "wVg9BWQ3upOm",
        "outputId": "bf7dbd3e-656f-431e-9463-f3372a25fc50"
      },
      "outputs": [
        {
          "data": {
            "image/png": "[encoded data removed]",
            "text/plain": [
              "<Figure size 640x480 with 6 Axes>"
            ]
          },
          "metadata": {},
          "output_type": "display_data"
        }
      ],
      "source": [
        "fig = plt.figure()\n",
        "\n",
        "\n",
        "for i in range(6):\n",
        "    fig.add_subplot(1,6,i+1)\n",
        "    plt.imshow(train_x[i], vmin = 0, vmax = 255, cmap = 'gray')\n",
        "\n",
        "plt.show()"
      ]
    },
    {
      "cell_type": "markdown",
      "metadata": {},
      "source": [
        "Displaying first few digits of the training dataset."
      ]
    },
    {
      "cell_type": "code",
      "execution_count": 8,
      "metadata": {
        "colab": {
          "base_uri": "https://localhost:8080/"
        },
        "id": "qk7unl1ZTmhL",
        "outputId": "a7de25fa-43b0-4a06-b5da-fa9b87f90c8c"
      },
      "outputs": [
        {
          "name": "stdout",
          "output_type": "stream",
          "text": [
            "<class 'numpy.ndarray'>\n",
            "(784,)\n"
          ]
        }
      ],
      "source": [
        "train_x_upd = np.zeros(784*train_x.shape[0]).reshape(train_x.shape[0], 784)\n",
        "for i in range(train_x.shape[0]):\n",
        "  train_x_upd[i] = train_x[i].reshape(784)\n",
        "  train_x_upd[i] = train_x_upd[i]/256\n",
        "\n",
        "print(type(train_x_upd[1]))\n",
        "print(train_x_upd[1].shape)"
      ]
    },
    {
      "cell_type": "code",
      "execution_count": 55,
      "metadata": {},
      "outputs": [
        {
          "name": "stdout",
          "output_type": "stream",
          "text": [
            "<class 'numpy.ndarray'>\n",
            "(784,)\n"
          ]
        }
      ],
      "source": [
        "test_x_upd = np.zeros(784*test_x.shape[0]).reshape(test_x.shape[0], 784)\n",
        "for i in range(test_x.shape[0]):\n",
        "  test_x_upd[i] = test_x[i].reshape(784)\n",
        "  test_x_upd[i] = test_x_upd[i]/256\n",
        "\n",
        "print(type(test_x_upd[1]))\n",
        "print(test_x_upd[1].shape)"
      ]
    },
    {
      "cell_type": "code",
      "execution_count": 56,
      "metadata": {},
      "outputs": [
        {
          "name": "stdout",
          "output_type": "stream",
          "text": [
            "[7 2 1 ... 4 5 6]\n"
          ]
        }
      ],
      "source": [
        "print(test_y)"
      ]
    },
    {
      "cell_type": "markdown",
      "metadata": {
        "id": "8QW7n4wZu2FK"
      },
      "source": [
        "Process the data to convert it from a 28x28 array to a 784x1 array. Further, the input is normalised by dividing the values by 256, so that the input layer activations lie between 0 and 1. "
      ]
    },
    {
      "cell_type": "code",
      "execution_count": 9,
      "metadata": {
        "colab": {
          "base_uri": "https://localhost:8080/"
        },
        "id": "LtNZlxdBG9NE",
        "outputId": "b87e5afa-c520-4f31-f2be-8c5b6aa7f7f6"
      },
      "outputs": [
        {
          "data": {
            "image/png": "[encoded data removed]",
            "text/plain": [
              "<Figure size 200x200 with 1 Axes>"
            ]
          },
          "metadata": {},
          "output_type": "display_data"
        },
        {
          "name": "stdout",
          "output_type": "stream",
          "text": [
            "5\n",
            "[0. 0. 0. 0. 0. 1. 0. 0. 0. 0.]\n"
          ]
        }
      ],
      "source": [
        "def output(x):\n",
        "  out = np.zeros(10)\n",
        "  out[x] = 1.0\n",
        "  return out\n",
        "\n",
        "fig = plt.figure(figsize=(2,2))\n",
        "\n",
        "plt.imshow(train_x_upd[0].reshape(28,28), cmap='gray', vmin = 0, vmax = 1)\n",
        "plt.show()\n",
        "\n",
        "print(train_y[0])\n",
        "w = output(train_y[0])\n",
        "print(w)"
      ]
    },
    {
      "cell_type": "code",
      "execution_count": 10,
      "metadata": {
        "id": "Qu7-EaDDOs0F"
      },
      "outputs": [
        {
          "name": "stdout",
          "output_type": "stream",
          "text": [
            "(60000,)\n",
            "(60000, 10)\n"
          ]
        }
      ],
      "source": [
        "print(train_y.shape)\n",
        "output_arr = np.zeros(10*train_y.shape[0])\n",
        "output_arr = output_arr.reshape(train_y.shape[0], 10)\n",
        "print(output_arr.shape)\n",
        "\n",
        "for i in range(train_y.shape[0]):\n",
        "  output_arr[i] = output(train_y[i])\n",
        "\n",
        "output_arr\n",
        "train_y = output_arr.copy()"
      ]
    },
    {
      "cell_type": "markdown",
      "metadata": {
        "id": "qOLCpzD0vVh2"
      },
      "source": [
        "Convert the output labels into an array of size 10x1 which can be directly compared with the output layer activations."
      ]
    },
    {
      "cell_type": "code",
      "execution_count": 13,
      "metadata": {
        "colab": {
          "base_uri": "https://localhost:8080/"
        },
        "id": "djEVWRuOjnKx",
        "outputId": "3879f048-e0c8-44f5-a01f-a10cf2805b33"
      },
      "outputs": [
        {
          "data": {
            "text/plain": [
              "array(0.00669285)"
            ]
          },
          "execution_count": 13,
          "metadata": {},
          "output_type": "execute_result"
        }
      ],
      "source": [
        "def sigmoid_num(x):\n",
        "  if(x > 20):\n",
        "    return 1\n",
        "  if(x < -20):\n",
        "    return 0\n",
        "  return (1/(1 + np.exp(-x)))\n",
        "\n",
        "sigmoid = np.vectorize(sigmoid_num)\n",
        "sigmoid(-5)"
      ]
    },
    {
      "cell_type": "code",
      "execution_count": 15,
      "metadata": {
        "id": "vMYbB8PypiL7"
      },
      "outputs": [],
      "source": [
        "def sigmoid_prime_num(x):\n",
        "  return ((sigmoid_num(x))*(1 - sigmoid_num(x)))\n",
        "\n",
        "sigmoid_prime = np.vectorize(sigmoid_prime_num)"
      ]
    },
    {
      "cell_type": "markdown",
      "metadata": {
        "id": "ylCalr84wFwz"
      },
      "source": [
        "The sigmoid function is the activation function. It has been vectorised to make it easy to apply on numpy arrays. Also to avoid np.exp overflow issues, sigmoid has been defines specifically for |x|>20."
      ]
    },
    {
      "cell_type": "code",
      "execution_count": 57,
      "metadata": {},
      "outputs": [],
      "source": [
        "class Network(object):\n",
        "\n",
        "    #this class contains all the methods which are needed to train the network.\n",
        "    #this class also has the weights, biases and neuron activations as attributes.\n",
        "\n",
        "    def __init__(self, size_layers):\n",
        "        self.inputlayer = np.zeros(size_layers[0])\n",
        "        self.hiddenlayer = np.zeros(size_layers[1])\n",
        "        self.outputlayer = np.zeros(size_layers[2])\n",
        "\n",
        "        self.hid_z = np.zeros(size_layers[1])\n",
        "        self.out_z = np.zeros(size_layers[2])\n",
        "\n",
        "        self.out_error = np.zeros(size_layers[2])\n",
        "        self.hid_error = np.zeros(size_layers[1])\n",
        "\n",
        "        self.weights_inp_hid = np.random.normal(size = (size_layers[1],size_layers[0]))\n",
        "        self.weights_hid_out = np.random.normal(size = (size_layers[2],size_layers[1]))\n",
        "\n",
        "        self.bias_hid = np.random.normal(size = size_layers[1])\n",
        "        self.bias_out = np.random.normal(size = size_layers[2])\n",
        "\n",
        "    def feedfwd(self, a):\n",
        "        #given an input image, this method calculates the neron activations at each layer of the network.\n",
        "        self.inputlayer = a\n",
        "\n",
        "        self.hid_z = np.matmul(self.weights_inp_hid, self.inputlayer) + self.bias_hid\n",
        "        self.hiddenlayer = sigmoid(self.hid_z)\n",
        "\n",
        "        self.out_z = np.matmul(self.weights_hid_out, self.hiddenlayer) + self.bias_out\n",
        "        self.outputlayer = sigmoid(self.out_z)\n",
        "\n",
        "    def backprop(self, expected_res):\n",
        "        #this method calculates and returns the various terms of the gradient of the cost function, using the backpropagation algorithm\n",
        "        self.out_error = np.multiply(self.outputlayer - expected_res, sigmoid_prime(self.out_z))\n",
        "        self.hid_error = np.multiply(np.matmul(np.transpose(self.weights_hid_out), self.out_error), sigmoid_prime(self.hid_z))\n",
        "\n",
        "        grad_bias_out = self.out_error\n",
        "        grad_bias_hid = self.hid_error\n",
        "        \n",
        "        grad_weight_inp_hid = np.outer(self.hid_error, self.inputlayer)\n",
        "        grad_weight_hid_out = np.outer(self.out_error, self.hiddenlayer)\n",
        "\n",
        "        return grad_weight_inp_hid, grad_weight_hid_out, grad_bias_hid, grad_bias_out\n",
        "\n",
        "    def gradient_desc(self, sample, learn_rate): \n",
        "        #sample is a list of tuples (x,y) where x is the input layer values, and y is the expected output.\n",
        "        #this method calls backprop() to evaluate the gradient of the cost function. Then it averages the gradient over all inputs in sample and \n",
        "        #using this average gradient and the learn_rate, modifies the weights and biases (gradient descent)\n",
        "        avg_grad_weight_inp_hid = np.zeros(shape = self.weights_inp_hid.shape)\n",
        "        avg_grad_weight_hid_out = np.zeros(shape = self.weights_hid_out.shape)\n",
        "        avg_grad_bias_hid = np.zeros(shape = self.bias_hid.shape)\n",
        "        avg_grad_bias_out = np.zeros(shape = self.bias_out.shape)\n",
        "\n",
        "        for a in sample:\n",
        "            self.feedfwd(a[0])\n",
        "            grad_weight_inp_hid, grad_weight_hid_out, grad_bias_hid, grad_bias_out = self.backprop(a[1])\n",
        "\n",
        "            avg_grad_weight_inp_hid = (avg_grad_weight_inp_hid*i + grad_weight_inp_hid)/(i+1)\n",
        "            avg_grad_weight_hid_out = (avg_grad_weight_hid_out*i + grad_weight_hid_out)/(i+1)\n",
        "            avg_grad_bias_hid = (avg_grad_bias_hid*i + grad_bias_hid)/(i+1)\n",
        "            avg_grad_bias_out = (avg_grad_bias_out*i + grad_bias_out)/(i+1)\n",
        "\n",
        "        length = len(sample)\n",
        "\n",
        "        self.weights_inp_hid -= (learn_rate/length) * avg_grad_weight_inp_hid\n",
        "        self.weights_hid_out -= (learn_rate/length) * avg_grad_weight_hid_out\n",
        "        self.bias_hid -= (learn_rate/length) * avg_grad_bias_hid\n",
        "        self.bias_out -= (learn_rate/length) * avg_grad_bias_out\n",
        "\n",
        "    def stochastic_batch(self, train_x_upd, train_y, batch_size, epochs, learn_rate, test_x_upd, test_y):\n",
        "        #instead of taking the average over all of the inputs in the training data, we can divide the training data into random minibatches, \n",
        "        #and modify our weights and biases using the average gradient over the inputs of each minibatch.\n",
        "\n",
        "        #we do this for the given number of epochs. Each epoch involves going over all the inputs of the training set.\n",
        "        for epoch in range(epochs):\n",
        "            train = [a for a in zip(train_x_upd, train_y)]\n",
        "            random.shuffle(train)\n",
        "            batches = [train[k: k+batch_size] for k in range(0, train_x_upd.shape[0], batch_size)]\n",
        "            for batch in batches:\n",
        "                self.gradient_desc(batch, learn_rate)\n",
        "\n",
        "            evaluate = 0\n",
        "\n",
        "            for i in range(test_x_upd.shape[0]):\n",
        "                self.feedfwd(test_x_upd[i])\n",
        "                if(test_y[i] == self.outputlayer.argmax()): evaluate+=1\n",
        "            print(\"Epoch no. {0} done. Accuracy {1} pc\".format(epoch, evaluate/test_x.shape[0]*100))\n",
        "\n",
        "        "
      ]
    },
    {
      "cell_type": "code",
      "execution_count": 63,
      "metadata": {},
      "outputs": [
        {
          "name": "stdout",
          "output_type": "stream",
          "text": [
            "Epoch no. 0 done. Accuracy 14.89 pc\n",
            "Epoch no. 1 done. Accuracy 18.13 pc\n",
            "Epoch no. 2 done. Accuracy 21.12 pc\n",
            "Epoch no. 3 done. Accuracy 24.39 pc\n",
            "Epoch no. 4 done. Accuracy 27.85 pc\n",
            "Epoch no. 5 done. Accuracy 31.269999999999996 pc\n",
            "Epoch no. 6 done. Accuracy 34.03 pc\n",
            "Epoch no. 7 done. Accuracy 36.79 pc\n",
            "Epoch no. 8 done. Accuracy 39.08 pc\n",
            "Epoch no. 9 done. Accuracy 40.94 pc\n",
            "Epoch no. 10 done. Accuracy 42.59 pc\n",
            "Epoch no. 11 done. Accuracy 44.1 pc\n",
            "Epoch no. 12 done. Accuracy 46.12 pc\n",
            "Epoch no. 13 done. Accuracy 51.849999999999994 pc\n",
            "Epoch no. 14 done. Accuracy 55.76 pc\n",
            "Epoch no. 15 done. Accuracy 57.25 pc\n",
            "Epoch no. 16 done. Accuracy 58.440000000000005 pc\n",
            "Epoch no. 17 done. Accuracy 59.519999999999996 pc\n",
            "Epoch no. 18 done. Accuracy 60.51 pc\n",
            "Epoch no. 19 done. Accuracy 61.4 pc\n",
            "Epoch no. 20 done. Accuracy 62.17 pc\n",
            "Epoch no. 21 done. Accuracy 62.9 pc\n",
            "Epoch no. 22 done. Accuracy 63.629999999999995 pc\n",
            "Epoch no. 23 done. Accuracy 64.08 pc\n",
            "Epoch no. 24 done. Accuracy 64.64 pc\n",
            "Epoch no. 25 done. Accuracy 65.29 pc\n",
            "Epoch no. 26 done. Accuracy 65.77 pc\n",
            "Epoch no. 27 done. Accuracy 66.22 pc\n",
            "Epoch no. 28 done. Accuracy 66.53 pc\n",
            "Epoch no. 29 done. Accuracy 66.95 pc\n"
          ]
        }
      ],
      "source": [
        "net = Network(size_layers=[784, 20, 10])\n",
        "\n",
        "net.stochastic_batch(train_x_upd, train_y, 600, 30, 3000.0, test_x_upd, test_y)"
      ]
    },
    {
      "cell_type": "code",
      "execution_count": 64,
      "metadata": {},
      "outputs": [
        {
          "name": "stdout",
          "output_type": "stream",
          "text": [
            "Epoch no. 0 done. Accuracy 67.4 pc\n",
            "Epoch no. 1 done. Accuracy 67.69 pc\n",
            "Epoch no. 2 done. Accuracy 67.93 pc\n",
            "Epoch no. 3 done. Accuracy 68.31 pc\n",
            "Epoch no. 4 done. Accuracy 68.63 pc\n",
            "Epoch no. 5 done. Accuracy 69.03 pc\n",
            "Epoch no. 6 done. Accuracy 69.3 pc\n",
            "Epoch no. 7 done. Accuracy 69.6 pc\n",
            "Epoch no. 8 done. Accuracy 69.93 pc\n",
            "Epoch no. 9 done. Accuracy 70.33 pc\n",
            "Epoch no. 10 done. Accuracy 70.82000000000001 pc\n",
            "Epoch no. 11 done. Accuracy 71.08 pc\n",
            "Epoch no. 12 done. Accuracy 71.28 pc\n",
            "Epoch no. 13 done. Accuracy 71.54 pc\n",
            "Epoch no. 14 done. Accuracy 71.78 pc\n",
            "Epoch no. 15 done. Accuracy 72.15 pc\n",
            "Epoch no. 16 done. Accuracy 72.43 pc\n",
            "Epoch no. 17 done. Accuracy 72.97 pc\n",
            "Epoch no. 18 done. Accuracy 73.45 pc\n",
            "Epoch no. 19 done. Accuracy 73.92 pc\n",
            "Epoch no. 20 done. Accuracy 74.63 pc\n",
            "Epoch no. 21 done. Accuracy 75.19 pc\n",
            "Epoch no. 22 done. Accuracy 75.67 pc\n",
            "Epoch no. 23 done. Accuracy 76.16000000000001 pc\n",
            "Epoch no. 24 done. Accuracy 76.57000000000001 pc\n",
            "Epoch no. 25 done. Accuracy 77.03 pc\n",
            "Epoch no. 26 done. Accuracy 77.33 pc\n",
            "Epoch no. 27 done. Accuracy 77.61 pc\n",
            "Epoch no. 28 done. Accuracy 77.95 pc\n",
            "Epoch no. 29 done. Accuracy 78.24 pc\n"
          ]
        }
      ],
      "source": [
        "net.stochastic_batch(train_x_upd, train_y, 60, 30, 300.0, test_x_upd, test_y)"
      ]
    },
    {
      "cell_type": "code",
      "execution_count": 65,
      "metadata": {},
      "outputs": [
        {
          "name": "stdout",
          "output_type": "stream",
          "text": [
            "Epoch no. 0 done. Accuracy 78.43 pc\n",
            "Epoch no. 1 done. Accuracy 78.58000000000001 pc\n",
            "Epoch no. 2 done. Accuracy 78.75999999999999 pc\n",
            "Epoch no. 3 done. Accuracy 78.94 pc\n",
            "Epoch no. 4 done. Accuracy 79.05 pc\n",
            "Epoch no. 5 done. Accuracy 79.17 pc\n",
            "Epoch no. 6 done. Accuracy 79.29 pc\n",
            "Epoch no. 7 done. Accuracy 79.39 pc\n",
            "Epoch no. 8 done. Accuracy 79.51 pc\n",
            "Epoch no. 9 done. Accuracy 79.53 pc\n",
            "Epoch no. 10 done. Accuracy 79.69000000000001 pc\n",
            "Epoch no. 11 done. Accuracy 79.82000000000001 pc\n",
            "Epoch no. 12 done. Accuracy 79.86 pc\n",
            "Epoch no. 13 done. Accuracy 79.86999999999999 pc\n",
            "Epoch no. 14 done. Accuracy 80.01 pc\n",
            "Epoch no. 15 done. Accuracy 80.10000000000001 pc\n",
            "Epoch no. 16 done. Accuracy 80.14 pc\n",
            "Epoch no. 17 done. Accuracy 80.27 pc\n",
            "Epoch no. 18 done. Accuracy 80.36999999999999 pc\n",
            "Epoch no. 19 done. Accuracy 80.43 pc\n",
            "Epoch no. 20 done. Accuracy 80.47999999999999 pc\n",
            "Epoch no. 21 done. Accuracy 80.62 pc\n",
            "Epoch no. 22 done. Accuracy 80.64 pc\n",
            "Epoch no. 23 done. Accuracy 80.74 pc\n",
            "Epoch no. 24 done. Accuracy 80.78 pc\n",
            "Epoch no. 25 done. Accuracy 80.85 pc\n",
            "Epoch no. 26 done. Accuracy 80.97999999999999 pc\n",
            "Epoch no. 27 done. Accuracy 81.16 pc\n",
            "Epoch no. 28 done. Accuracy 81.2 pc\n",
            "Epoch no. 29 done. Accuracy 81.32000000000001 pc\n"
          ]
        }
      ],
      "source": [
        "net.stochastic_batch(train_x_upd, train_y, 10, 30, 30.0, test_x_upd, test_y)"
      ]
    },
    {
      "cell_type": "code",
      "execution_count": 66,
      "metadata": {},
      "outputs": [
        {
          "name": "stdout",
          "output_type": "stream",
          "text": [
            "Epoch no. 0 done. Accuracy 81.44 pc\n",
            "Epoch no. 1 done. Accuracy 81.6 pc\n",
            "Epoch no. 2 done. Accuracy 81.69999999999999 pc\n",
            "Epoch no. 3 done. Accuracy 81.81 pc\n",
            "Epoch no. 4 done. Accuracy 81.93 pc\n",
            "Epoch no. 5 done. Accuracy 82.02000000000001 pc\n",
            "Epoch no. 6 done. Accuracy 82.06 pc\n",
            "Epoch no. 7 done. Accuracy 82.21000000000001 pc\n",
            "Epoch no. 8 done. Accuracy 82.28999999999999 pc\n",
            "Epoch no. 9 done. Accuracy 82.42 pc\n",
            "Epoch no. 10 done. Accuracy 82.39999999999999 pc\n",
            "Epoch no. 11 done. Accuracy 82.53 pc\n",
            "Epoch no. 12 done. Accuracy 82.6 pc\n",
            "Epoch no. 13 done. Accuracy 82.67999999999999 pc\n",
            "Epoch no. 14 done. Accuracy 82.80999999999999 pc\n",
            "Epoch no. 15 done. Accuracy 82.86 pc\n",
            "Epoch no. 16 done. Accuracy 82.95 pc\n",
            "Epoch no. 17 done. Accuracy 83.02000000000001 pc\n",
            "Epoch no. 18 done. Accuracy 83.11 pc\n",
            "Epoch no. 19 done. Accuracy 83.24000000000001 pc\n",
            "Epoch no. 20 done. Accuracy 83.28 pc\n",
            "Epoch no. 21 done. Accuracy 83.37 pc\n",
            "Epoch no. 22 done. Accuracy 83.42 pc\n",
            "Epoch no. 23 done. Accuracy 83.49 pc\n",
            "Epoch no. 24 done. Accuracy 83.57 pc\n",
            "Epoch no. 25 done. Accuracy 83.61 pc\n",
            "Epoch no. 26 done. Accuracy 83.69 pc\n",
            "Epoch no. 27 done. Accuracy 83.69 pc\n",
            "Epoch no. 28 done. Accuracy 83.72 pc\n",
            "Epoch no. 29 done. Accuracy 83.78 pc\n"
          ]
        }
      ],
      "source": [
        "net.stochastic_batch(train_x_upd, train_y, 60, 30, 300.0, test_x_upd, test_y)"
      ]
    },
    {
      "cell_type": "code",
      "execution_count": 69,
      "metadata": {},
      "outputs": [
        {
          "name": "stdout",
          "output_type": "stream",
          "text": [
            "Epoch no. 0 done. Accuracy 84.07 pc\n",
            "Epoch no. 1 done. Accuracy 84.09 pc\n",
            "Epoch no. 2 done. Accuracy 84.27 pc\n",
            "Epoch no. 3 done. Accuracy 84.3 pc\n",
            "Epoch no. 4 done. Accuracy 84.43 pc\n",
            "Epoch no. 5 done. Accuracy 84.52 pc\n",
            "Epoch no. 6 done. Accuracy 84.64 pc\n",
            "Epoch no. 7 done. Accuracy 84.72 pc\n",
            "Epoch no. 8 done. Accuracy 84.94 pc\n",
            "Epoch no. 9 done. Accuracy 84.98 pc\n",
            "Epoch no. 10 done. Accuracy 85.1 pc\n",
            "Epoch no. 11 done. Accuracy 85.16 pc\n",
            "Epoch no. 12 done. Accuracy 85.2 pc\n",
            "Epoch no. 13 done. Accuracy 85.34 pc\n",
            "Epoch no. 14 done. Accuracy 85.39 pc\n",
            "Epoch no. 15 done. Accuracy 85.55 pc\n",
            "Epoch no. 16 done. Accuracy 85.56 pc\n",
            "Epoch no. 17 done. Accuracy 85.66 pc\n",
            "Epoch no. 18 done. Accuracy 85.75 pc\n",
            "Epoch no. 19 done. Accuracy 85.74000000000001 pc\n",
            "Epoch no. 20 done. Accuracy 85.83 pc\n",
            "Epoch no. 21 done. Accuracy 85.91 pc\n",
            "Epoch no. 22 done. Accuracy 85.92 pc\n",
            "Epoch no. 23 done. Accuracy 85.97 pc\n",
            "Epoch no. 24 done. Accuracy 85.97 pc\n",
            "Epoch no. 25 done. Accuracy 86.05000000000001 pc\n",
            "Epoch no. 26 done. Accuracy 86.07000000000001 pc\n",
            "Epoch no. 27 done. Accuracy 86.11999999999999 pc\n",
            "Epoch no. 28 done. Accuracy 86.21 pc\n",
            "Epoch no. 29 done. Accuracy 86.25 pc\n",
            "Epoch no. 30 done. Accuracy 86.24000000000001 pc\n",
            "Epoch no. 31 done. Accuracy 86.3 pc\n",
            "Epoch no. 32 done. Accuracy 86.4 pc\n",
            "Epoch no. 33 done. Accuracy 86.39 pc\n",
            "Epoch no. 34 done. Accuracy 86.49 pc\n",
            "Epoch no. 35 done. Accuracy 86.49 pc\n",
            "Epoch no. 36 done. Accuracy 86.53 pc\n",
            "Epoch no. 37 done. Accuracy 86.6 pc\n",
            "Epoch no. 38 done. Accuracy 86.64 pc\n",
            "Epoch no. 39 done. Accuracy 86.65 pc\n",
            "Epoch no. 40 done. Accuracy 86.71 pc\n",
            "Epoch no. 41 done. Accuracy 86.78 pc\n",
            "Epoch no. 42 done. Accuracy 86.8 pc\n",
            "Epoch no. 43 done. Accuracy 86.8 pc\n",
            "Epoch no. 44 done. Accuracy 86.82 pc\n",
            "Epoch no. 45 done. Accuracy 86.83999999999999 pc\n",
            "Epoch no. 46 done. Accuracy 86.94 pc\n",
            "Epoch no. 47 done. Accuracy 86.98 pc\n",
            "Epoch no. 48 done. Accuracy 87.02 pc\n",
            "Epoch no. 49 done. Accuracy 87.1 pc\n",
            "Epoch no. 50 done. Accuracy 87.19 pc\n",
            "Epoch no. 51 done. Accuracy 87.15 pc\n",
            "Epoch no. 52 done. Accuracy 87.2 pc\n",
            "Epoch no. 53 done. Accuracy 87.21 pc\n",
            "Epoch no. 54 done. Accuracy 87.21 pc\n",
            "Epoch no. 55 done. Accuracy 87.19 pc\n",
            "Epoch no. 56 done. Accuracy 87.26 pc\n",
            "Epoch no. 57 done. Accuracy 87.33 pc\n",
            "Epoch no. 58 done. Accuracy 87.36 pc\n",
            "Epoch no. 59 done. Accuracy 87.39 pc\n",
            "Epoch no. 60 done. Accuracy 87.41 pc\n",
            "Epoch no. 61 done. Accuracy 87.46000000000001 pc\n",
            "Epoch no. 62 done. Accuracy 87.48 pc\n",
            "Epoch no. 63 done. Accuracy 87.45 pc\n",
            "Epoch no. 64 done. Accuracy 87.47 pc\n",
            "Epoch no. 65 done. Accuracy 87.45 pc\n",
            "Epoch no. 66 done. Accuracy 87.51 pc\n",
            "Epoch no. 67 done. Accuracy 87.51 pc\n",
            "Epoch no. 68 done. Accuracy 87.58 pc\n",
            "Epoch no. 69 done. Accuracy 87.53999999999999 pc\n",
            "Epoch no. 70 done. Accuracy 87.5 pc\n",
            "Epoch no. 71 done. Accuracy 87.53999999999999 pc\n",
            "Epoch no. 72 done. Accuracy 87.55 pc\n",
            "Epoch no. 73 done. Accuracy 87.61 pc\n",
            "Epoch no. 74 done. Accuracy 87.6 pc\n",
            "Epoch no. 75 done. Accuracy 87.61 pc\n",
            "Epoch no. 76 done. Accuracy 87.6 pc\n",
            "Epoch no. 77 done. Accuracy 87.58 pc\n",
            "Epoch no. 78 done. Accuracy 87.62 pc\n",
            "Epoch no. 79 done. Accuracy 87.59 pc\n",
            "Epoch no. 80 done. Accuracy 87.64 pc\n",
            "Epoch no. 81 done. Accuracy 87.63 pc\n",
            "Epoch no. 82 done. Accuracy 87.6 pc\n",
            "Epoch no. 83 done. Accuracy 87.61 pc\n",
            "Epoch no. 84 done. Accuracy 87.66000000000001 pc\n",
            "Epoch no. 85 done. Accuracy 87.64999999999999 pc\n",
            "Epoch no. 86 done. Accuracy 87.64 pc\n",
            "Epoch no. 87 done. Accuracy 87.64999999999999 pc\n",
            "Epoch no. 88 done. Accuracy 87.7 pc\n",
            "Epoch no. 89 done. Accuracy 87.72 pc\n",
            "Epoch no. 90 done. Accuracy 87.76 pc\n",
            "Epoch no. 91 done. Accuracy 87.77000000000001 pc\n",
            "Epoch no. 92 done. Accuracy 87.83 pc\n",
            "Epoch no. 93 done. Accuracy 87.86 pc\n",
            "Epoch no. 94 done. Accuracy 87.91 pc\n",
            "Epoch no. 95 done. Accuracy 87.91 pc\n",
            "Epoch no. 96 done. Accuracy 87.94999999999999 pc\n",
            "Epoch no. 97 done. Accuracy 87.96000000000001 pc\n",
            "Epoch no. 98 done. Accuracy 87.97 pc\n",
            "Epoch no. 99 done. Accuracy 87.98 pc\n"
          ]
        }
      ],
      "source": [
        "net.stochastic_batch(train_x_upd, train_y, 10, 100, 90.0, test_x_upd, test_y)"
      ]
    },
    {
      "cell_type": "code",
      "execution_count": 72,
      "metadata": {},
      "outputs": [],
      "source": [
        "np.savetxt(\"weights_inp_hid.csv\", net.weights_inp_hid, delimiter= ',')\n",
        "np.savetxt(\"weights_hid_out.csv\", net.weights_hid_out, delimiter= ',')\n",
        "np.savetxt(\"bias_hid.csv\", net.bias_hid, delimiter= ',')\n",
        "np.savetxt(\"bias_out.csv\", net.bias_out, delimiter= ',')"
      ]
    },
    {
      "cell_type": "code",
      "execution_count": 74,
      "metadata": {},
      "outputs": [
        {
          "name": "stdout",
          "output_type": "stream",
          "text": [
            "Accuracy 88.09 pc on training dataset\n"
          ]
        }
      ],
      "source": [
        "evaluate = 0\n",
        "\n",
        "for i in range(train_x_upd.shape[0]):\n",
        "    net.feedfwd(train_x_upd[i])\n",
        "    if(train_y[i].argmax() == net.outputlayer.argmax()): evaluate+=1\n",
        "print(\"Accuracy {0} pc on training dataset\".format(evaluate/train_x_upd.shape[0]*100))\n"
      ]
    }
  ],
  "metadata": {
    "colab": {
      "provenance": []
    },
    "kernelspec": {
      "display_name": "Python 3.10.8 ('mlpython')",
      "language": "python",
      "name": "python3"
    },
    "language_info": {
      "codemirror_mode": {
        "name": "ipython",
        "version": 3
      },
      "file_extension": ".py",
      "mimetype": "text/x-python",
      "name": "python",
      "nbconvert_exporter": "python",
      "pygments_lexer": "ipython3",
      "version": "3.10.8"
    },
    "vscode": {
      "interpreter": {
        "hash": "3eef3f509c0e5be08d24194ecd2d5f21aca693efa9f7b2400de7ea93357555df"
      }
    }
  },
  "nbformat": 4,
  "nbformat_minor": 0
}
